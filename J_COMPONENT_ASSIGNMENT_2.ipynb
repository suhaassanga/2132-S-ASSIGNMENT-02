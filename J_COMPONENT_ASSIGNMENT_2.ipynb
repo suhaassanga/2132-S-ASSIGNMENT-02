{
  "nbformat": 4,
  "nbformat_minor": 0,
  "metadata": {
    "colab": {
      "name": "J-COMPONENT ASSIGNMENT-2.ipynb",
      "provenance": []
    },
    "kernelspec": {
      "name": "python3",
      "display_name": "Python 3"
    },
    "language_info": {
      "name": "python"
    },
    "accelerator": "GPU"
  },
  "cells": [
    {
      "cell_type": "code",
      "metadata": {
        "colab": {
          "base_uri": "https://localhost:8080/"
        },
        "id": "jQlP0CfOv5bI",
        "outputId": "083175ad-1b7c-4bcd-e3dc-b116cd826a95"
      },
      "source": [
        "import numpy as np\n",
        "m=[1235,1500,1850,2000]\n",
        "c=[1900,1950,2000,2100]\n",
        "x1=[3.2,3.2,3.7,3.9,4,4,4.1,4.5,4.9,5.1,5.3,5.9,6]\n",
        "y=[54445,64445,57189,63218,55794,56957,57081,61111,67938,66029,83088,81363,93940]\n",
        "yp=[]\n",
        "e=[]\n",
        "def linear(m,c):\n",
        "  sum=0\n",
        "  for i in range(0,len(x1)):\n",
        "    yp.append(m*x1[i]+c)\n",
        "    g=(y[i]-yp[i])**2\n",
        "    sum=sum+g\n",
        "    e.append(g)\n",
        "    k=np.array(e)\n",
        "  print('MEAN SQUARE ERROR IS :',np.mean(k))\n",
        "  \n",
        "\n",
        "for i in range(0,4):\n",
        "  linear(m[i],c[i])"
      ],
      "execution_count": 20,
      "outputs": [
        {
          "output_type": "stream",
          "name": "stdout",
          "text": [
            "MEAN SQUARE ERROR IS : 3595685378.8461537\n",
            "MEAN SQUARE ERROR IS : 3595685378.8461537\n",
            "MEAN SQUARE ERROR IS : 3595685378.8461537\n",
            "MEAN SQUARE ERROR IS : 3595685378.8461537\n"
          ]
        }
      ]
    },
    {
      "cell_type": "code",
      "metadata": {
        "id": "DfZUIB3Wu6W5"
      },
      "source": [
        ""
      ],
      "execution_count": null,
      "outputs": []
    }
  ]
}